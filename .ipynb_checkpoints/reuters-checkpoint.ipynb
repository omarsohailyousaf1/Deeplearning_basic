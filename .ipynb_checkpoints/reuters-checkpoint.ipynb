{
 "cells": [
  {
   "cell_type": "code",
   "execution_count": 2,
   "id": "37513c4b",
   "metadata": {},
   "outputs": [
    {
     "name": "stdout",
     "output_type": "stream",
     "text": [
      "WARNING:tensorflow:From C:\\Users\\Personal\\anaconda3\\Lib\\site-packages\\keras\\src\\losses.py:2976: The name tf.losses.sparse_softmax_cross_entropy is deprecated. Please use tf.compat.v1.losses.sparse_softmax_cross_entropy instead.\n",
      "\n",
      "Downloading data from https://storage.googleapis.com/tensorflow/tf-keras-datasets/reuters.npz\n",
      "2110848/2110848 [==============================] - 1s 1us/step\n"
     ]
    }
   ],
   "source": [
    "from keras.datasets import reuters\n",
    "(train_data, train_labels), (test_data, test_labels) = reuters.load_data(\n",
    "num_words=10000)"
   ]
  },
  {
   "cell_type": "code",
   "execution_count": 35,
   "id": "1d1c9603",
   "metadata": {},
   "outputs": [],
   "source": [
    "import numpy as np"
   ]
  },
  {
   "cell_type": "code",
   "execution_count": 5,
   "id": "86e1ad5b",
   "metadata": {},
   "outputs": [
    {
     "name": "stdout",
     "output_type": "stream",
     "text": [
      "Downloading data from https://storage.googleapis.com/tensorflow/tf-keras-datasets/reuters_word_index.json\n",
      "550378/550378 [==============================] - 1s 2us/step\n"
     ]
    }
   ],
   "source": [
    "word_index = reuters.get_word_index()\n",
    "reverse_word_index = dict([(value, key) for (key, value) in word_index.items()])\n",
    "decoded_newswire = ' '.join([reverse_word_index.get(i - 3, '?') for i in\n",
    "train_data[0]])"
   ]
  },
  {
   "cell_type": "code",
   "execution_count": 6,
   "id": "50b669b2",
   "metadata": {},
   "outputs": [
    {
     "data": {
      "text/plain": [
       "'? ? ? said as a result of its december acquisition of space co it expects earnings per share in 1987 of 1 15 to 1 30 dlrs per share up from 70 cts in 1986 the company said pretax net should rise to nine to 10 mln dlrs from six mln dlrs in 1986 and rental operation revenues to 19 to 22 mln dlrs from 12 5 mln dlrs it said cash flow per share this year should be 2 50 to three dlrs reuter 3'"
      ]
     },
     "execution_count": 6,
     "metadata": {},
     "output_type": "execute_result"
    }
   ],
   "source": [
    "decoded_newswire"
   ]
  },
  {
   "cell_type": "code",
   "execution_count": 7,
   "id": "776ae89b",
   "metadata": {},
   "outputs": [],
   "source": [
    "import numpy as np\n",
    "def vectorize_sequences(sequences, dimension=10000):\n",
    "    results = np.zeros((len(sequences), dimension))\n",
    "    for i, sequence in enumerate(sequences):\n",
    "        results[i, sequence] = 1.\n",
    "    return results\n",
    "x_train = vectorize_sequences(train_data)\n",
    "x_test = vectorize_sequences(test_data)"
   ]
  },
  {
   "cell_type": "code",
   "execution_count": 9,
   "id": "6b2e47aa",
   "metadata": {},
   "outputs": [],
   "source": [
    "#can you this method \n",
    "def to_one_hot(labels, dimension=46):\n",
    "    results = np.zeros((len(labels), dimension))\n",
    "    for i, label in enumerate(labels):\n",
    "        results[i, label] = 1.\n",
    "    return results\n",
    "one_hot_train_labels = to_one_hot(train_labels)\n",
    "one_hot_test_labels = to_one_hot(test_labels)\n",
    "\n",
    "#or this \n",
    "#from keras.utils.np_utils import to_categorical\n",
    "#one_hot_train_labels = to_categorical(train_labels)\n",
    "#one_hot_test_labels = to_categorical(test_labels)"
   ]
  },
  {
   "cell_type": "code",
   "execution_count": 10,
   "id": "91bf2a42",
   "metadata": {},
   "outputs": [],
   "source": [
    "from keras import models\n",
    "from keras import layers"
   ]
  },
  {
   "cell_type": "code",
   "execution_count": 15,
   "id": "25f46073",
   "metadata": {},
   "outputs": [],
   "source": [
    "#used 64 instead of 16 as the model has 46 out puts and 16 would not have been enough parameters to contain the large number of info\n",
    "model=models.Sequential()\n",
    "model.add(layers.Dense(64,activation=\"relu\",input_shape=(10000,)))\n",
    "model.add(layers.Dense(64,activation=\"relu\"))\n",
    "# the last layer will tell the probability of the text being any of the 46 options and the sum of all will be 1\n",
    "model.add(layers.Dense(46,activation=\"softmax\"))"
   ]
  },
  {
   "cell_type": "code",
   "execution_count": 16,
   "id": "53276e97",
   "metadata": {},
   "outputs": [],
   "source": [
    "model.compile(optimizer=\"rmsprop\",loss=\"categorical_crossentropy\",metrics=[\"acc\"])"
   ]
  },
  {
   "cell_type": "code",
   "execution_count": 17,
   "id": "475a69c1",
   "metadata": {},
   "outputs": [],
   "source": [
    "#set aside for validation set\n",
    "x_val = x_train[:1000]\n",
    "partial_x_train = x_train[1000:]\n",
    "y_val = one_hot_train_labels[:1000]\n",
    "partial_y_train = one_hot_train_labels[1000:]"
   ]
  },
  {
   "cell_type": "code",
   "execution_count": 18,
   "id": "8858d430",
   "metadata": {},
   "outputs": [
    {
     "name": "stdout",
     "output_type": "stream",
     "text": [
      "Epoch 1/20\n",
      "WARNING:tensorflow:From C:\\Users\\Personal\\anaconda3\\Lib\\site-packages\\keras\\src\\utils\\tf_utils.py:492: The name tf.ragged.RaggedTensorValue is deprecated. Please use tf.compat.v1.ragged.RaggedTensorValue instead.\n",
      "\n",
      "WARNING:tensorflow:From C:\\Users\\Personal\\anaconda3\\Lib\\site-packages\\keras\\src\\engine\\base_layer_utils.py:384: The name tf.executing_eagerly_outside_functions is deprecated. Please use tf.compat.v1.executing_eagerly_outside_functions instead.\n",
      "\n",
      "16/16 [==============================] - 1s 30ms/step - loss: 2.7972 - acc: 0.4966 - val_loss: 1.9206 - val_acc: 0.6130\n",
      "Epoch 2/20\n",
      "16/16 [==============================] - 0s 15ms/step - loss: 1.5989 - acc: 0.6635 - val_loss: 1.4226 - val_acc: 0.6930\n",
      "Epoch 3/20\n",
      "16/16 [==============================] - 0s 15ms/step - loss: 1.2159 - acc: 0.7319 - val_loss: 1.2052 - val_acc: 0.7230\n",
      "Epoch 4/20\n",
      "16/16 [==============================] - 0s 16ms/step - loss: 0.9867 - acc: 0.7816 - val_loss: 1.0951 - val_acc: 0.7610\n",
      "Epoch 5/20\n",
      "16/16 [==============================] - 0s 19ms/step - loss: 0.8162 - acc: 0.8218 - val_loss: 1.0014 - val_acc: 0.7850\n",
      "Epoch 6/20\n",
      "16/16 [==============================] - 0s 16ms/step - loss: 0.6817 - acc: 0.8507 - val_loss: 0.9539 - val_acc: 0.7910\n",
      "Epoch 7/20\n",
      "16/16 [==============================] - 0s 19ms/step - loss: 0.5633 - acc: 0.8812 - val_loss: 0.9233 - val_acc: 0.7970\n",
      "Epoch 8/20\n",
      "16/16 [==============================] - 0s 20ms/step - loss: 0.4807 - acc: 0.8980 - val_loss: 0.8829 - val_acc: 0.8060\n",
      "Epoch 9/20\n",
      "16/16 [==============================] - 0s 20ms/step - loss: 0.4033 - acc: 0.9154 - val_loss: 0.8757 - val_acc: 0.8050\n",
      "Epoch 10/20\n",
      "16/16 [==============================] - 0s 16ms/step - loss: 0.3486 - acc: 0.9251 - val_loss: 0.8819 - val_acc: 0.8040\n",
      "Epoch 11/20\n",
      "16/16 [==============================] - 0s 19ms/step - loss: 0.2992 - acc: 0.9342 - val_loss: 0.8502 - val_acc: 0.8060\n",
      "Epoch 12/20\n",
      "16/16 [==============================] - 0s 19ms/step - loss: 0.2669 - acc: 0.9370 - val_loss: 0.8712 - val_acc: 0.8020\n",
      "Epoch 13/20\n",
      "16/16 [==============================] - 0s 16ms/step - loss: 0.2345 - acc: 0.9444 - val_loss: 0.8631 - val_acc: 0.8140\n",
      "Epoch 14/20\n",
      "16/16 [==============================] - 0s 16ms/step - loss: 0.2073 - acc: 0.9479 - val_loss: 0.8761 - val_acc: 0.8090\n",
      "Epoch 15/20\n",
      "16/16 [==============================] - 0s 16ms/step - loss: 0.1873 - acc: 0.9514 - val_loss: 0.9062 - val_acc: 0.8060\n",
      "Epoch 16/20\n",
      "16/16 [==============================] - 0s 16ms/step - loss: 0.1697 - acc: 0.9534 - val_loss: 0.9309 - val_acc: 0.8080\n",
      "Epoch 17/20\n",
      "16/16 [==============================] - 0s 16ms/step - loss: 0.1679 - acc: 0.9536 - val_loss: 0.9061 - val_acc: 0.8100\n",
      "Epoch 18/20\n",
      "16/16 [==============================] - 0s 21ms/step - loss: 0.1503 - acc: 0.9555 - val_loss: 0.9199 - val_acc: 0.8030\n",
      "Epoch 19/20\n",
      "16/16 [==============================] - 0s 26ms/step - loss: 0.1414 - acc: 0.9555 - val_loss: 0.9379 - val_acc: 0.8060\n",
      "Epoch 20/20\n",
      "16/16 [==============================] - 0s 24ms/step - loss: 0.1378 - acc: 0.9568 - val_loss: 0.9154 - val_acc: 0.8060\n"
     ]
    }
   ],
   "source": [
    "history = model.fit(partial_x_train,\n",
    "partial_y_train,\n",
    "epochs=20,\n",
    "batch_size=512,\n",
    "validation_data=(x_val, y_val))"
   ]
  },
  {
   "cell_type": "code",
   "execution_count": 19,
   "id": "0df30558",
   "metadata": {},
   "outputs": [
    {
     "data": {
      "image/png": "[encoded data removed]",
      "text/plain": [
       "<Figure size 640x480 with 1 Axes>"
      ]
     },
     "metadata": {},
     "output_type": "display_data"
    }
   ],
   "source": [
    "import matplotlib.pyplot as plt\n",
    "loss = history.history['loss']\n",
    "val_loss = history.history['val_loss']\n",
    "epochs = range(1, len(loss) + 1)\n",
    "plt.plot(epochs, loss, 'bo', label='Training loss')\n",
    "plt.plot(epochs, val_loss, 'b', label='Validation loss')\n",
    "plt.title('Training and validation loss')\n",
    "plt.xlabel('Epochs')\n",
    "plt.ylabel('Loss')\n",
    "plt.legend()\n",
    "plt.show()"
   ]
  },
  {
   "cell_type": "code",
   "execution_count": 20,
   "id": "b54927f3",
   "metadata": {},
   "outputs": [
    {
     "data": {
      "image/png": "[encoded data removed]",
      "text/plain": [
       "<Figure size 640x480 with 1 Axes>"
      ]
     },
     "metadata": {},
     "output_type": "display_data"
    }
   ],
   "source": [
    "plt.clf()\n",
    "acc = history.history['acc']\n",
    "val_acc = history.history['val_acc']\n",
    "plt.plot(epochs, acc, 'bo', label='Training acc')\n",
    "plt.plot(epochs, val_acc, 'b', label='Validation acc')\n",
    "plt.title('Training and validation accuracy')\n",
    "plt.xlabel('Epochs')\n",
    "plt.ylabel('Loss')\n",
    "plt.legend()\n",
    "plt.show()"
   ]
  },
  {
   "cell_type": "code",
   "execution_count": 21,
   "id": "65b5b7f6",
   "metadata": {},
   "outputs": [
    {
     "name": "stdout",
     "output_type": "stream",
     "text": [
      "71/71 [==============================] - 0s 2ms/step - loss: 1.0466 - acc: 0.7925\n"
     ]
    }
   ],
   "source": [
    "results = model.evaluate(x_test, one_hot_test_labels)"
   ]
  },
  {
   "cell_type": "code",
   "execution_count": 29,
   "id": "d6b399c6",
   "metadata": {},
   "outputs": [
    {
     "name": "stdout",
     "output_type": "stream",
     "text": [
      "Epoch 1/9\n",
      "16/16 [==============================] - 1s 27ms/step - loss: 2.8966 - accuracy: 0.5085 - val_loss: 1.9747 - val_accuracy: 0.6020\n",
      "Epoch 2/9\n",
      "16/16 [==============================] - 0s 15ms/step - loss: 1.6228 - accuracy: 0.6749 - val_loss: 1.4398 - val_accuracy: 0.6910\n",
      "Epoch 3/9\n",
      "16/16 [==============================] - 0s 15ms/step - loss: 1.2288 - accuracy: 0.7365 - val_loss: 1.2418 - val_accuracy: 0.7260\n",
      "Epoch 4/9\n",
      "16/16 [==============================] - 0s 15ms/step - loss: 1.0191 - accuracy: 0.7815 - val_loss: 1.1350 - val_accuracy: 0.7450\n",
      "Epoch 5/9\n",
      "16/16 [==============================] - 0s 15ms/step - loss: 0.8475 - accuracy: 0.8217 - val_loss: 1.0551 - val_accuracy: 0.7790\n",
      "Epoch 6/9\n",
      "16/16 [==============================] - 0s 15ms/step - loss: 0.7147 - accuracy: 0.8488 - val_loss: 0.9771 - val_accuracy: 0.7970\n",
      "Epoch 7/9\n",
      "16/16 [==============================] - 0s 15ms/step - loss: 0.5953 - accuracy: 0.8763 - val_loss: 0.9425 - val_accuracy: 0.7940\n",
      "Epoch 8/9\n",
      "16/16 [==============================] - 0s 16ms/step - loss: 0.5045 - accuracy: 0.8955 - val_loss: 0.9160 - val_accuracy: 0.8130\n",
      "Epoch 9/9\n",
      "16/16 [==============================] - 0s 14ms/step - loss: 0.4259 - accuracy: 0.9116 - val_loss: 0.8865 - val_accuracy: 0.8120\n",
      "71/71 [==============================] - 0s 2ms/step - loss: 0.9572 - accuracy: 0.7850\n"
     ]
    }
   ],
   "source": [
    "#we see after the 9th epoch the training data continues ot fit while validation remains stagnent meaning the model over fits to the \n",
    "#data so lets try the accuracy with  9 epoch\n",
    "# this model os the exact same as the previous models except it  has 9 epoch instead of  20\n",
    "model = models.Sequential()\n",
    "model.add(layers.Dense(64, activation='relu', input_shape=(10000,)))\n",
    "model.add(layers.Dense(64, activation='relu'))\n",
    "model.add(layers.Dense(46, activation='softmax'))\n",
    "model.compile(optimizer='rmsprop',\n",
    "loss='categorical_crossentropy',\n",
    "metrics=['accuracy'])\n",
    "model.fit(partial_x_train,\n",
    "partial_y_train,\n",
    "epochs=9,\n",
    "batch_size=512,\n",
    "validation_data=(x_val, y_val))\n",
    "results = model.evaluate(x_test, one_hot_test_labels)"
   ]
  },
  {
   "cell_type": "code",
   "execution_count": 31,
   "id": "73b38e48",
   "metadata": {},
   "outputs": [
    {
     "name": "stdout",
     "output_type": "stream",
     "text": [
      "71/71 [==============================] - 0s 1ms/step\n"
     ]
    }
   ],
   "source": [
    "# gives prediction of all the test data\n",
    "predictions = model.predict(x_test)"
   ]
  },
  {
   "cell_type": "code",
   "execution_count": 33,
   "id": "6a42203f",
   "metadata": {},
   "outputs": [
    {
     "data": {
      "text/plain": [
       "1.0000001"
      ]
     },
     "execution_count": 33,
     "metadata": {},
     "output_type": "execute_result"
    }
   ],
   "source": [
    "# shows the sum of all values of each probability results in the sum of 1\n",
    "predictions[0].sum()"
   ]
  },
  {
   "cell_type": "code",
   "execution_count": 36,
   "id": "72e96bea",
   "metadata": {},
   "outputs": [
    {
     "data": {
      "text/plain": [
       "3"
      ]
     },
     "execution_count": 36,
     "metadata": {},
     "output_type": "execute_result"
    }
   ],
   "source": [
    "# tells that the highest probabilty of test sentence 0 is being of the class 3 out of 46 classes\n",
    "np.argmax(predictions[0])"
   ]
  },
  {
   "cell_type": "code",
   "execution_count": null,
   "id": "97da7bc4",
   "metadata": {},
   "outputs": [],
   "source": []
  },
  {
   "cell_type": "code",
   "execution_count": null,
   "id": "f2c98e36",
   "metadata": {},
   "outputs": [],
   "source": []
  },
  {
   "cell_type": "code",
   "execution_count": null,
   "id": "51577da9",
   "metadata": {},
   "outputs": [],
   "source": []
  },
  {
   "cell_type": "code",
   "execution_count": null,
   "id": "1bfab909",
   "metadata": {},
   "outputs": [],
   "source": []
  },
  {
   "cell_type": "code",
   "execution_count": 37,
   "id": "18434136",
   "metadata": {},
   "outputs": [],
   "source": [
    "# a different way to handle data and its results"
   ]
  },
  {
   "cell_type": "code",
   "execution_count": 38,
   "id": "3e5d0594",
   "metadata": {},
   "outputs": [],
   "source": [
    "# turn labels into arrays\n",
    "y_train = np.array(train_labels)\n",
    "y_test = np.array(test_labels)"
   ]
  },
  {
   "cell_type": "code",
   "execution_count": 40,
   "id": "56418e7b",
   "metadata": {},
   "outputs": [
    {
     "data": {
      "text/plain": [
       "(8982,)"
      ]
     },
     "execution_count": 40,
     "metadata": {},
     "output_type": "execute_result"
    }
   ],
   "source": []
  },
  {
   "cell_type": "code",
   "execution_count": 41,
   "id": "f1e60299",
   "metadata": {},
   "outputs": [
    {
     "name": "stdout",
     "output_type": "stream",
     "text": [
      "Epoch 1/20\n",
      "63/63 [==============================] - 1s 11ms/step - loss: 2.5652 - accuracy: 0.3800 - val_loss: 1.8706 - val_accuracy: 0.5240\n",
      "Epoch 2/20\n",
      "63/63 [==============================] - 0s 8ms/step - loss: 1.6078 - accuracy: 0.6349 - val_loss: 1.4778 - val_accuracy: 0.6580\n",
      "Epoch 3/20\n",
      "63/63 [==============================] - 0s 8ms/step - loss: 1.3034 - accuracy: 0.6961 - val_loss: 1.3469 - val_accuracy: 0.6910\n",
      "Epoch 4/20\n",
      "63/63 [==============================] - 0s 8ms/step - loss: 1.1496 - accuracy: 0.7230 - val_loss: 1.2916 - val_accuracy: 0.6990\n",
      "Epoch 5/20\n",
      "63/63 [==============================] - 1s 10ms/step - loss: 1.0410 - accuracy: 0.7419 - val_loss: 1.2496 - val_accuracy: 0.7170\n",
      "Epoch 6/20\n",
      "63/63 [==============================] - 1s 8ms/step - loss: 0.9547 - accuracy: 0.7536 - val_loss: 1.2517 - val_accuracy: 0.7130\n",
      "Epoch 7/20\n",
      "63/63 [==============================] - 1s 9ms/step - loss: 0.8869 - accuracy: 0.7615 - val_loss: 1.2472 - val_accuracy: 0.7110\n",
      "Epoch 8/20\n",
      "63/63 [==============================] - 1s 8ms/step - loss: 0.8285 - accuracy: 0.7724 - val_loss: 1.2497 - val_accuracy: 0.7190\n",
      "Epoch 9/20\n",
      "63/63 [==============================] - 1s 8ms/step - loss: 0.7789 - accuracy: 0.7849 - val_loss: 1.2793 - val_accuracy: 0.7150\n",
      "Epoch 10/20\n",
      "63/63 [==============================] - 1s 8ms/step - loss: 0.7341 - accuracy: 0.7942 - val_loss: 1.2798 - val_accuracy: 0.7160\n",
      "Epoch 11/20\n",
      "63/63 [==============================] - 1s 10ms/step - loss: 0.6955 - accuracy: 0.8019 - val_loss: 1.2912 - val_accuracy: 0.7200\n",
      "Epoch 12/20\n",
      "63/63 [==============================] - 1s 8ms/step - loss: 0.6606 - accuracy: 0.8083 - val_loss: 1.2989 - val_accuracy: 0.7230\n",
      "Epoch 13/20\n",
      "63/63 [==============================] - 1s 9ms/step - loss: 0.6320 - accuracy: 0.8112 - val_loss: 1.3594 - val_accuracy: 0.7140\n",
      "Epoch 14/20\n",
      "63/63 [==============================] - 1s 8ms/step - loss: 0.6046 - accuracy: 0.8142 - val_loss: 1.3701 - val_accuracy: 0.7170\n",
      "Epoch 15/20\n",
      "63/63 [==============================] - 1s 9ms/step - loss: 0.5817 - accuracy: 0.8215 - val_loss: 1.3732 - val_accuracy: 0.7200\n",
      "Epoch 16/20\n",
      "63/63 [==============================] - 1s 10ms/step - loss: 0.5606 - accuracy: 0.8254 - val_loss: 1.4369 - val_accuracy: 0.7260\n",
      "Epoch 17/20\n",
      "63/63 [==============================] - 1s 9ms/step - loss: 0.5423 - accuracy: 0.8309 - val_loss: 1.4587 - val_accuracy: 0.7230\n",
      "Epoch 18/20\n",
      "63/63 [==============================] - 1s 11ms/step - loss: 0.5246 - accuracy: 0.8351 - val_loss: 1.4887 - val_accuracy: 0.7250\n",
      "Epoch 19/20\n",
      "63/63 [==============================] - 1s 11ms/step - loss: 0.5101 - accuracy: 0.8386 - val_loss: 1.5474 - val_accuracy: 0.7240\n",
      "Epoch 20/20\n",
      "63/63 [==============================] - 1s 12ms/step - loss: 0.4947 - accuracy: 0.8469 - val_loss: 1.5677 - val_accuracy: 0.7230\n"
     ]
    },
    {
     "data": {
      "text/plain": [
       "<keras.src.callbacks.History at 0x17005f52dd0>"
      ]
     },
     "execution_count": 41,
     "metadata": {},
     "output_type": "execute_result"
    }
   ],
   "source": [
    "# in this model the center  layer has a 4 hidden units which causes the accuracy to drp in the final test evaliation models\n",
    "# models accuracy reached .785 while this model resulted in .70 \n",
    "model = models.Sequential()\n",
    "model.add(layers.Dense(64, activation='relu', input_shape=(10000,)))\n",
    "model.add(layers.Dense(4, activation='relu'))\n",
    "model.add(layers.Dense(46, activation='softmax'))\n",
    "model.compile(optimizer='rmsprop',\n",
    "loss='categorical_crossentropy',\n",
    "metrics=['accuracy'])\n",
    "model.fit(partial_x_train,\n",
    "partial_y_train,\n",
    "epochs=20,\n",
    "batch_size=128,\n",
    "validation_data=(x_val, y_val))"
   ]
  },
  {
   "cell_type": "code",
   "execution_count": 42,
   "id": "8da963c6",
   "metadata": {},
   "outputs": [
    {
     "name": "stdout",
     "output_type": "stream",
     "text": [
      "71/71 [==============================] - 0s 1ms/step - loss: 1.6407 - accuracy: 0.7053\n"
     ]
    }
   ],
   "source": [
    "results = model.evaluate(x_test, one_hot_test_labels)"
   ]
  },
  {
   "cell_type": "code",
   "execution_count": 43,
   "id": "031a0619",
   "metadata": {},
   "outputs": [
    {
     "name": "stdout",
     "output_type": "stream",
     "text": [
      "Epoch 1/20\n",
      "63/63 [==============================] - 1s 11ms/step - loss: 1.8376 - accuracy: 0.6094 - val_loss: 1.3325 - val_accuracy: 0.6930\n",
      "Epoch 2/20\n",
      "63/63 [==============================] - 0s 7ms/step - loss: 1.0222 - accuracy: 0.7755 - val_loss: 1.0218 - val_accuracy: 0.7860\n",
      "Epoch 3/20\n",
      "63/63 [==============================] - 0s 7ms/step - loss: 0.7134 - accuracy: 0.8424 - val_loss: 1.0088 - val_accuracy: 0.7780\n",
      "Epoch 4/20\n",
      "63/63 [==============================] - 0s 7ms/step - loss: 0.5093 - accuracy: 0.8860 - val_loss: 0.9811 - val_accuracy: 0.7740\n",
      "Epoch 5/20\n",
      "63/63 [==============================] - 1s 8ms/step - loss: 0.3731 - accuracy: 0.9143 - val_loss: 0.9177 - val_accuracy: 0.8070\n",
      "Epoch 6/20\n",
      "63/63 [==============================] - 1s 10ms/step - loss: 0.2885 - accuracy: 0.9337 - val_loss: 0.9817 - val_accuracy: 0.8040\n",
      "Epoch 7/20\n",
      "63/63 [==============================] - 1s 9ms/step - loss: 0.2368 - accuracy: 0.9414 - val_loss: 1.1433 - val_accuracy: 0.7700\n",
      "Epoch 8/20\n",
      "63/63 [==============================] - 1s 9ms/step - loss: 0.2039 - accuracy: 0.9498 - val_loss: 1.0269 - val_accuracy: 0.7770\n",
      "Epoch 9/20\n",
      "63/63 [==============================] - 0s 8ms/step - loss: 0.1837 - accuracy: 0.9523 - val_loss: 1.0127 - val_accuracy: 0.7950\n",
      "Epoch 10/20\n",
      "63/63 [==============================] - 0s 7ms/step - loss: 0.1666 - accuracy: 0.9521 - val_loss: 1.0957 - val_accuracy: 0.7940\n",
      "Epoch 11/20\n",
      "63/63 [==============================] - 0s 7ms/step - loss: 0.1562 - accuracy: 0.9563 - val_loss: 1.1061 - val_accuracy: 0.7810\n",
      "Epoch 12/20\n",
      "63/63 [==============================] - 0s 7ms/step - loss: 0.1463 - accuracy: 0.9548 - val_loss: 1.2086 - val_accuracy: 0.7870\n",
      "Epoch 13/20\n",
      "63/63 [==============================] - 0s 7ms/step - loss: 0.1440 - accuracy: 0.9539 - val_loss: 1.0454 - val_accuracy: 0.8010\n",
      "Epoch 14/20\n",
      "63/63 [==============================] - 0s 7ms/step - loss: 0.1359 - accuracy: 0.9560 - val_loss: 1.0632 - val_accuracy: 0.7960\n",
      "Epoch 15/20\n",
      "63/63 [==============================] - 0s 8ms/step - loss: 0.1334 - accuracy: 0.9545 - val_loss: 1.0396 - val_accuracy: 0.8000\n",
      "Epoch 16/20\n",
      "63/63 [==============================] - 0s 7ms/step - loss: 0.1260 - accuracy: 0.9569 - val_loss: 1.1282 - val_accuracy: 0.7990\n",
      "Epoch 17/20\n",
      "63/63 [==============================] - 0s 7ms/step - loss: 0.1191 - accuracy: 0.9572 - val_loss: 1.1427 - val_accuracy: 0.7970\n",
      "Epoch 18/20\n",
      "63/63 [==============================] - 0s 7ms/step - loss: 0.1175 - accuracy: 0.9570 - val_loss: 1.1280 - val_accuracy: 0.7970\n",
      "Epoch 19/20\n",
      "63/63 [==============================] - 0s 8ms/step - loss: 0.1159 - accuracy: 0.9575 - val_loss: 1.1700 - val_accuracy: 0.7900\n",
      "Epoch 20/20\n",
      "63/63 [==============================] - 1s 8ms/step - loss: 0.1157 - accuracy: 0.9575 - val_loss: 1.2003 - val_accuracy: 0.7730\n",
      "71/71 [==============================] - 0s 3ms/step - loss: 1.3652 - accuracy: 0.7605\n"
     ]
    }
   ],
   "source": [
    "model = models.Sequential()\n",
    "model.add(layers.Dense(64, activation='relu', input_shape=(10000,)))\n",
    "model.add(layers.Dense(64, activation='relu'))\n",
    "model.add(layers.Dense(64, activation='relu'))\n",
    "model.add(layers.Dense(46, activation='softmax'))\n",
    "model.compile(optimizer='rmsprop',\n",
    "loss='categorical_crossentropy',\n",
    "metrics=['accuracy'])\n",
    "model.fit(partial_x_train,\n",
    "partial_y_train,\n",
    "epochs=20,\n",
    "batch_size=128,\n",
    "validation_data=(x_val, y_val))\n",
    "results = model.evaluate(x_test, one_hot_test_labels)"
   ]
  },
  {
   "cell_type": "code",
   "execution_count": 44,
   "id": "00657de4",
   "metadata": {},
   "outputs": [
    {
     "name": "stdout",
     "output_type": "stream",
     "text": [
      "Epoch 1/20\n",
      "63/63 [==============================] - 2s 22ms/step - loss: 1.6572 - accuracy: 0.6317 - val_loss: 1.1987 - val_accuracy: 0.7120\n",
      "Epoch 2/20\n",
      "63/63 [==============================] - 1s 17ms/step - loss: 0.8806 - accuracy: 0.8017 - val_loss: 0.9361 - val_accuracy: 0.8000\n",
      "Epoch 3/20\n",
      "63/63 [==============================] - 1s 18ms/step - loss: 0.5459 - accuracy: 0.8781 - val_loss: 0.9364 - val_accuracy: 0.7850\n",
      "Epoch 4/20\n",
      "63/63 [==============================] - 1s 18ms/step - loss: 0.3539 - accuracy: 0.9211 - val_loss: 1.0843 - val_accuracy: 0.7710\n",
      "Epoch 5/20\n",
      "63/63 [==============================] - 1s 18ms/step - loss: 0.2543 - accuracy: 0.9424 - val_loss: 1.0111 - val_accuracy: 0.7960\n",
      "Epoch 6/20\n",
      "63/63 [==============================] - 1s 18ms/step - loss: 0.2029 - accuracy: 0.9494 - val_loss: 0.9589 - val_accuracy: 0.7950\n",
      "Epoch 7/20\n",
      "63/63 [==============================] - 1s 19ms/step - loss: 0.1770 - accuracy: 0.9526 - val_loss: 1.0502 - val_accuracy: 0.7940\n",
      "Epoch 8/20\n",
      "63/63 [==============================] - 1s 22ms/step - loss: 0.1651 - accuracy: 0.9528 - val_loss: 0.9484 - val_accuracy: 0.8080\n",
      "Epoch 9/20\n",
      "63/63 [==============================] - 1s 19ms/step - loss: 0.1480 - accuracy: 0.9540 - val_loss: 0.9775 - val_accuracy: 0.8130\n",
      "Epoch 10/20\n",
      "63/63 [==============================] - 1s 18ms/step - loss: 0.1370 - accuracy: 0.9554 - val_loss: 1.0422 - val_accuracy: 0.8070\n",
      "Epoch 11/20\n",
      "63/63 [==============================] - 1s 16ms/step - loss: 0.1278 - accuracy: 0.9570 - val_loss: 1.0930 - val_accuracy: 0.8040\n",
      "Epoch 12/20\n",
      "63/63 [==============================] - 1s 16ms/step - loss: 0.1225 - accuracy: 0.9575 - val_loss: 1.1199 - val_accuracy: 0.7960\n",
      "Epoch 13/20\n",
      "63/63 [==============================] - 1s 16ms/step - loss: 0.1173 - accuracy: 0.9572 - val_loss: 1.0314 - val_accuracy: 0.7860\n",
      "Epoch 14/20\n",
      "63/63 [==============================] - 1s 16ms/step - loss: 0.1116 - accuracy: 0.9536 - val_loss: 1.1099 - val_accuracy: 0.8020\n",
      "Epoch 15/20\n",
      "63/63 [==============================] - 1s 17ms/step - loss: 0.1084 - accuracy: 0.9582 - val_loss: 1.1318 - val_accuracy: 0.8030\n",
      "Epoch 16/20\n",
      "63/63 [==============================] - 1s 17ms/step - loss: 0.1020 - accuracy: 0.9583 - val_loss: 1.1815 - val_accuracy: 0.8010\n",
      "Epoch 17/20\n",
      "63/63 [==============================] - 1s 17ms/step - loss: 0.0988 - accuracy: 0.9578 - val_loss: 1.2720 - val_accuracy: 0.7980\n",
      "Epoch 18/20\n",
      "63/63 [==============================] - 1s 17ms/step - loss: 0.0944 - accuracy: 0.9564 - val_loss: 1.2252 - val_accuracy: 0.8020\n",
      "Epoch 19/20\n",
      "63/63 [==============================] - 1s 17ms/step - loss: 0.0936 - accuracy: 0.9560 - val_loss: 1.2695 - val_accuracy: 0.8030\n",
      "Epoch 20/20\n",
      "63/63 [==============================] - 1s 17ms/step - loss: 0.0896 - accuracy: 0.9568 - val_loss: 1.2759 - val_accuracy: 0.8020\n",
      "71/71 [==============================] - 0s 4ms/step - loss: 1.4562 - accuracy: 0.7930\n"
     ]
    }
   ],
   "source": [
    "model = models.Sequential()\n",
    "model.add(layers.Dense(128, activation='relu', input_shape=(10000,)))\n",
    "model.add(layers.Dense(128, activation='relu'))\n",
    "model.add(layers.Dense(128, activation='relu'))\n",
    "model.add(layers.Dense(46, activation='softmax'))\n",
    "model.compile(optimizer='rmsprop',\n",
    "loss='categorical_crossentropy',\n",
    "metrics=['accuracy'])\n",
    "model.fit(partial_x_train,\n",
    "partial_y_train,\n",
    "epochs=20,\n",
    "batch_size=128,\n",
    "validation_data=(x_val, y_val))\n",
    "results = model.evaluate(x_test, one_hot_test_labels)"
   ]
  },
  {
   "cell_type": "code",
   "execution_count": 45,
   "id": "1cafd157",
   "metadata": {},
   "outputs": [
    {
     "name": "stdout",
     "output_type": "stream",
     "text": [
      "Epoch 1/20\n",
      "63/63 [==============================] - 1s 10ms/step - loss: 2.3221 - accuracy: 0.5400 - val_loss: 1.5214 - val_accuracy: 0.6480\n",
      "Epoch 2/20\n",
      "63/63 [==============================] - 0s 6ms/step - loss: 1.3182 - accuracy: 0.7008 - val_loss: 1.2291 - val_accuracy: 0.7120\n",
      "Epoch 3/20\n",
      "63/63 [==============================] - 0s 6ms/step - loss: 1.0161 - accuracy: 0.7582 - val_loss: 1.0995 - val_accuracy: 0.7500\n",
      "Epoch 4/20\n",
      "63/63 [==============================] - 0s 6ms/step - loss: 0.8046 - accuracy: 0.8128 - val_loss: 1.0162 - val_accuracy: 0.7670\n",
      "Epoch 5/20\n",
      "63/63 [==============================] - 0s 6ms/step - loss: 0.6354 - accuracy: 0.8495 - val_loss: 0.9834 - val_accuracy: 0.7730\n",
      "Epoch 6/20\n",
      "63/63 [==============================] - 0s 6ms/step - loss: 0.5055 - accuracy: 0.8820 - val_loss: 0.9638 - val_accuracy: 0.7950\n",
      "Epoch 7/20\n",
      "63/63 [==============================] - 0s 6ms/step - loss: 0.4042 - accuracy: 0.9089 - val_loss: 1.0508 - val_accuracy: 0.7850\n",
      "Epoch 8/20\n",
      "63/63 [==============================] - 0s 6ms/step - loss: 0.3324 - accuracy: 0.9282 - val_loss: 1.0177 - val_accuracy: 0.7870\n",
      "Epoch 9/20\n",
      "63/63 [==============================] - 0s 6ms/step - loss: 0.2808 - accuracy: 0.9380 - val_loss: 1.2144 - val_accuracy: 0.7700\n",
      "Epoch 10/20\n",
      "63/63 [==============================] - 0s 6ms/step - loss: 0.2390 - accuracy: 0.9459 - val_loss: 1.1007 - val_accuracy: 0.7920\n",
      "Epoch 11/20\n",
      "63/63 [==============================] - 0s 6ms/step - loss: 0.2147 - accuracy: 0.9499 - val_loss: 1.1922 - val_accuracy: 0.7870\n",
      "Epoch 12/20\n",
      "63/63 [==============================] - 0s 6ms/step - loss: 0.1945 - accuracy: 0.9519 - val_loss: 1.1439 - val_accuracy: 0.7950\n",
      "Epoch 13/20\n",
      "63/63 [==============================] - 0s 6ms/step - loss: 0.1785 - accuracy: 0.9531 - val_loss: 1.1526 - val_accuracy: 0.7830\n",
      "Epoch 14/20\n",
      "63/63 [==============================] - 0s 6ms/step - loss: 0.1689 - accuracy: 0.9540 - val_loss: 1.1761 - val_accuracy: 0.7910\n",
      "Epoch 15/20\n",
      "63/63 [==============================] - 0s 6ms/step - loss: 0.1572 - accuracy: 0.9554 - val_loss: 1.2255 - val_accuracy: 0.7930\n",
      "Epoch 16/20\n",
      "63/63 [==============================] - 0s 6ms/step - loss: 0.1484 - accuracy: 0.9573 - val_loss: 1.3001 - val_accuracy: 0.7810\n",
      "Epoch 17/20\n",
      "63/63 [==============================] - 0s 6ms/step - loss: 0.1474 - accuracy: 0.9564 - val_loss: 1.2624 - val_accuracy: 0.7880\n",
      "Epoch 18/20\n",
      "63/63 [==============================] - 0s 6ms/step - loss: 0.1437 - accuracy: 0.9568 - val_loss: 1.2803 - val_accuracy: 0.7900\n",
      "Epoch 19/20\n",
      "63/63 [==============================] - 0s 6ms/step - loss: 0.1363 - accuracy: 0.9574 - val_loss: 1.3435 - val_accuracy: 0.7760\n",
      "Epoch 20/20\n",
      "63/63 [==============================] - 1s 10ms/step - loss: 0.1300 - accuracy: 0.9567 - val_loss: 1.2716 - val_accuracy: 0.7830\n",
      "71/71 [==============================] - 0s 4ms/step - loss: 1.4490 - accuracy: 0.7663\n"
     ]
    }
   ],
   "source": [
    "model = models.Sequential()\n",
    "model.add(layers.Dense(32, activation='relu', input_shape=(10000,)))\n",
    "model.add(layers.Dense(32, activation='relu'))\n",
    "model.add(layers.Dense(32, activation='relu'))\n",
    "model.add(layers.Dense(46, activation='softmax'))\n",
    "model.compile(optimizer='rmsprop',\n",
    "loss='categorical_crossentropy',\n",
    "metrics=['accuracy'])\n",
    "model.fit(partial_x_train,\n",
    "partial_y_train,\n",
    "epochs=20,\n",
    "batch_size=128,\n",
    "validation_data=(x_val, y_val))\n",
    "results = model.evaluate(x_test, one_hot_test_labels)"
   ]
  },
  {
   "cell_type": "code",
   "execution_count": 46,
   "id": "18420014",
   "metadata": {},
   "outputs": [
    {
     "name": "stdout",
     "output_type": "stream",
     "text": [
      "Epoch 1/20\n",
      "63/63 [==============================] - 2s 22ms/step - loss: 1.8147 - accuracy: 0.5992 - val_loss: 1.2559 - val_accuracy: 0.7090\n",
      "Epoch 2/20\n",
      "63/63 [==============================] - 1s 17ms/step - loss: 1.0085 - accuracy: 0.7650 - val_loss: 1.0379 - val_accuracy: 0.7790\n",
      "Epoch 3/20\n",
      "63/63 [==============================] - 1s 17ms/step - loss: 0.6721 - accuracy: 0.8448 - val_loss: 0.9807 - val_accuracy: 0.7650\n",
      "Epoch 4/20\n",
      "63/63 [==============================] - 1s 17ms/step - loss: 0.4557 - accuracy: 0.8963 - val_loss: 1.0045 - val_accuracy: 0.7840\n",
      "Epoch 5/20\n",
      "63/63 [==============================] - 1s 17ms/step - loss: 0.3295 - accuracy: 0.9273 - val_loss: 1.0232 - val_accuracy: 0.7980\n",
      "Epoch 6/20\n",
      "63/63 [==============================] - 1s 16ms/step - loss: 0.2553 - accuracy: 0.9430 - val_loss: 0.9128 - val_accuracy: 0.8090\n",
      "Epoch 7/20\n",
      "63/63 [==============================] - 1s 16ms/step - loss: 0.2178 - accuracy: 0.9483 - val_loss: 0.9543 - val_accuracy: 0.8140\n",
      "Epoch 8/20\n",
      "63/63 [==============================] - 1s 15ms/step - loss: 0.1819 - accuracy: 0.9529 - val_loss: 1.0089 - val_accuracy: 0.8040\n",
      "Epoch 9/20\n",
      "63/63 [==============================] - 1s 17ms/step - loss: 0.1682 - accuracy: 0.9539 - val_loss: 1.0132 - val_accuracy: 0.7970\n",
      "Epoch 10/20\n",
      "63/63 [==============================] - 1s 15ms/step - loss: 0.1567 - accuracy: 0.9529 - val_loss: 1.1284 - val_accuracy: 0.7910\n",
      "Epoch 11/20\n",
      "63/63 [==============================] - 1s 15ms/step - loss: 0.1421 - accuracy: 0.9567 - val_loss: 1.0822 - val_accuracy: 0.7990\n",
      "Epoch 12/20\n",
      "63/63 [==============================] - 1s 15ms/step - loss: 0.1418 - accuracy: 0.9564 - val_loss: 1.0105 - val_accuracy: 0.8000\n",
      "Epoch 13/20\n",
      "63/63 [==============================] - 1s 17ms/step - loss: 0.1338 - accuracy: 0.9564 - val_loss: 1.2058 - val_accuracy: 0.7700\n",
      "Epoch 14/20\n",
      "63/63 [==============================] - 1s 17ms/step - loss: 0.1287 - accuracy: 0.9563 - val_loss: 1.0374 - val_accuracy: 0.7980\n",
      "Epoch 15/20\n",
      "63/63 [==============================] - 1s 17ms/step - loss: 0.1223 - accuracy: 0.9558 - val_loss: 1.1296 - val_accuracy: 0.7820\n",
      "Epoch 16/20\n",
      "63/63 [==============================] - 1s 16ms/step - loss: 0.1166 - accuracy: 0.9575 - val_loss: 1.1916 - val_accuracy: 0.7800\n",
      "Epoch 17/20\n",
      "63/63 [==============================] - 1s 16ms/step - loss: 0.1180 - accuracy: 0.9567 - val_loss: 1.1019 - val_accuracy: 0.7990\n",
      "Epoch 18/20\n",
      "63/63 [==============================] - 1s 16ms/step - loss: 0.1099 - accuracy: 0.9573 - val_loss: 1.3436 - val_accuracy: 0.7630\n",
      "Epoch 19/20\n",
      "63/63 [==============================] - 1s 17ms/step - loss: 0.1129 - accuracy: 0.9560 - val_loss: 1.1892 - val_accuracy: 0.7850\n",
      "Epoch 20/20\n",
      "63/63 [==============================] - 1s 16ms/step - loss: 0.1077 - accuracy: 0.9570 - val_loss: 1.0831 - val_accuracy: 0.7930\n",
      "71/71 [==============================] - 0s 4ms/step - loss: 1.2881 - accuracy: 0.7774\n"
     ]
    }
   ],
   "source": [
    "model = models.Sequential()\n",
    "model.add(layers.Dense(128, activation='relu', input_shape=(10000,)))\n",
    "model.add(layers.Dense(32, activation='relu'))\n",
    "model.add(layers.Dense(128, activation='relu'))\n",
    "model.add(layers.Dense(46, activation='softmax'))\n",
    "model.compile(optimizer='rmsprop',\n",
    "loss='categorical_crossentropy',\n",
    "metrics=['accuracy'])\n",
    "model.fit(partial_x_train,\n",
    "partial_y_train,\n",
    "epochs=20,\n",
    "batch_size=128,\n",
    "validation_data=(x_val, y_val))\n",
    "results = model.evaluate(x_test, one_hot_test_labels)"
   ]
  },
  {
   "cell_type": "code",
   "execution_count": 47,
   "id": "9055896f",
   "metadata": {},
   "outputs": [
    {
     "name": "stdout",
     "output_type": "stream",
     "text": [
      "Epoch 1/20\n",
      "63/63 [==============================] - 2s 18ms/step - loss: 1.6221 - accuracy: 0.6505 - val_loss: 1.1624 - val_accuracy: 0.7220\n",
      "Epoch 2/20\n",
      "63/63 [==============================] - 1s 13ms/step - loss: 0.8213 - accuracy: 0.8157 - val_loss: 0.9584 - val_accuracy: 0.7990\n",
      "Epoch 3/20\n",
      "63/63 [==============================] - 1s 14ms/step - loss: 0.5153 - accuracy: 0.8911 - val_loss: 0.8348 - val_accuracy: 0.8160\n",
      "Epoch 4/20\n",
      "63/63 [==============================] - 1s 14ms/step - loss: 0.3457 - accuracy: 0.9235 - val_loss: 0.8336 - val_accuracy: 0.8270\n",
      "Epoch 5/20\n",
      "63/63 [==============================] - 1s 15ms/step - loss: 0.2551 - accuracy: 0.9406 - val_loss: 0.8677 - val_accuracy: 0.8160\n",
      "Epoch 6/20\n",
      "63/63 [==============================] - 1s 15ms/step - loss: 0.2108 - accuracy: 0.9483 - val_loss: 0.8618 - val_accuracy: 0.8230\n",
      "Epoch 7/20\n",
      "63/63 [==============================] - 1s 16ms/step - loss: 0.1819 - accuracy: 0.9530 - val_loss: 0.8837 - val_accuracy: 0.8210\n",
      "Epoch 8/20\n",
      "63/63 [==============================] - 1s 16ms/step - loss: 0.1711 - accuracy: 0.9533 - val_loss: 0.9566 - val_accuracy: 0.8040\n",
      "Epoch 9/20\n",
      "63/63 [==============================] - 1s 17ms/step - loss: 0.1547 - accuracy: 0.9553 - val_loss: 0.9360 - val_accuracy: 0.8150\n",
      "Epoch 10/20\n",
      "63/63 [==============================] - 1s 16ms/step - loss: 0.1480 - accuracy: 0.9545 - val_loss: 0.9397 - val_accuracy: 0.8230\n",
      "Epoch 11/20\n",
      "63/63 [==============================] - 1s 16ms/step - loss: 0.1381 - accuracy: 0.9563 - val_loss: 1.0251 - val_accuracy: 0.7910\n",
      "Epoch 12/20\n",
      "63/63 [==============================] - 1s 16ms/step - loss: 0.1373 - accuracy: 0.9550 - val_loss: 0.9474 - val_accuracy: 0.8200\n",
      "Epoch 13/20\n",
      "63/63 [==============================] - 1s 17ms/step - loss: 0.1306 - accuracy: 0.9564 - val_loss: 0.9956 - val_accuracy: 0.8140\n",
      "Epoch 14/20\n",
      "63/63 [==============================] - 1s 16ms/step - loss: 0.1265 - accuracy: 0.9562 - val_loss: 0.9759 - val_accuracy: 0.8000\n",
      "Epoch 15/20\n",
      "63/63 [==============================] - 1s 16ms/step - loss: 0.1257 - accuracy: 0.9559 - val_loss: 0.9098 - val_accuracy: 0.8150\n",
      "Epoch 16/20\n",
      "63/63 [==============================] - 1s 16ms/step - loss: 0.1157 - accuracy: 0.9578 - val_loss: 0.9256 - val_accuracy: 0.8200\n",
      "Epoch 17/20\n",
      "63/63 [==============================] - 1s 17ms/step - loss: 0.1161 - accuracy: 0.9560 - val_loss: 0.9748 - val_accuracy: 0.8010\n",
      "Epoch 18/20\n",
      "63/63 [==============================] - 1s 17ms/step - loss: 0.1122 - accuracy: 0.9563 - val_loss: 0.9442 - val_accuracy: 0.8090\n",
      "Epoch 19/20\n",
      "63/63 [==============================] - 1s 15ms/step - loss: 0.1081 - accuracy: 0.9573 - val_loss: 0.9777 - val_accuracy: 0.8090\n",
      "Epoch 20/20\n",
      "63/63 [==============================] - 1s 15ms/step - loss: 0.1060 - accuracy: 0.9564 - val_loss: 1.0442 - val_accuracy: 0.8120\n",
      "71/71 [==============================] - 0s 3ms/step - loss: 1.1978 - accuracy: 0.7876\n"
     ]
    }
   ],
   "source": [
    "model = models.Sequential()\n",
    "model.add(layers.Dense(128, activation='relu', input_shape=(10000,)))\n",
    "model.add(layers.Dense(128, activation='relu'))\n",
    "\n",
    "model.add(layers.Dense(46, activation='softmax'))\n",
    "model.compile(optimizer='rmsprop',\n",
    "loss='categorical_crossentropy',\n",
    "metrics=['accuracy'])\n",
    "model.fit(partial_x_train,\n",
    "partial_y_train,\n",
    "epochs=20,\n",
    "batch_size=128,\n",
    "validation_data=(x_val, y_val))\n",
    "results = model.evaluate(x_test, one_hot_test_labels)"
   ]
  },
  {
   "cell_type": "code",
   "execution_count": 48,
   "id": "e897e72c",
   "metadata": {},
   "outputs": [
    {
     "name": "stdout",
     "output_type": "stream",
     "text": [
      "Epoch 1/20\n",
      "63/63 [==============================] - 1s 10ms/step - loss: 2.0819 - accuracy: 0.5778 - val_loss: 1.3611 - val_accuracy: 0.6900\n",
      "Epoch 2/20\n",
      "63/63 [==============================] - 0s 6ms/step - loss: 1.1375 - accuracy: 0.7467 - val_loss: 1.0914 - val_accuracy: 0.7530\n",
      "Epoch 3/20\n",
      "63/63 [==============================] - 0s 6ms/step - loss: 0.8374 - accuracy: 0.8145 - val_loss: 1.0024 - val_accuracy: 0.7760\n",
      "Epoch 4/20\n",
      "63/63 [==============================] - 0s 7ms/step - loss: 0.6330 - accuracy: 0.8561 - val_loss: 0.9121 - val_accuracy: 0.8120\n",
      "Epoch 5/20\n",
      "63/63 [==============================] - 0s 7ms/step - loss: 0.4803 - accuracy: 0.8934 - val_loss: 0.9083 - val_accuracy: 0.8030\n",
      "Epoch 6/20\n",
      "63/63 [==============================] - 0s 7ms/step - loss: 0.3665 - accuracy: 0.9182 - val_loss: 0.9023 - val_accuracy: 0.8140\n",
      "Epoch 7/20\n",
      "63/63 [==============================] - 0s 7ms/step - loss: 0.2903 - accuracy: 0.9342 - val_loss: 0.9194 - val_accuracy: 0.8100\n",
      "Epoch 8/20\n",
      "63/63 [==============================] - 0s 7ms/step - loss: 0.2364 - accuracy: 0.9425 - val_loss: 0.9731 - val_accuracy: 0.8120\n",
      "Epoch 9/20\n",
      "63/63 [==============================] - 0s 7ms/step - loss: 0.2073 - accuracy: 0.9470 - val_loss: 0.9797 - val_accuracy: 0.8090\n",
      "Epoch 10/20\n",
      "63/63 [==============================] - 0s 7ms/step - loss: 0.1815 - accuracy: 0.9515 - val_loss: 1.0620 - val_accuracy: 0.8030\n",
      "Epoch 11/20\n",
      "63/63 [==============================] - 0s 7ms/step - loss: 0.1685 - accuracy: 0.9521 - val_loss: 1.0293 - val_accuracy: 0.8150\n",
      "Epoch 12/20\n",
      "63/63 [==============================] - 0s 7ms/step - loss: 0.1553 - accuracy: 0.9528 - val_loss: 1.1256 - val_accuracy: 0.7940\n",
      "Epoch 13/20\n",
      "63/63 [==============================] - 0s 7ms/step - loss: 0.1482 - accuracy: 0.9557 - val_loss: 1.0806 - val_accuracy: 0.8030\n",
      "Epoch 14/20\n",
      "63/63 [==============================] - 0s 7ms/step - loss: 0.1388 - accuracy: 0.9560 - val_loss: 1.0903 - val_accuracy: 0.8030\n",
      "Epoch 15/20\n",
      "63/63 [==============================] - 0s 7ms/step - loss: 0.1332 - accuracy: 0.9565 - val_loss: 1.1690 - val_accuracy: 0.7990\n",
      "Epoch 16/20\n",
      "63/63 [==============================] - 0s 7ms/step - loss: 0.1324 - accuracy: 0.9573 - val_loss: 1.0666 - val_accuracy: 0.8050\n",
      "Epoch 17/20\n",
      "63/63 [==============================] - 0s 7ms/step - loss: 0.1263 - accuracy: 0.9568 - val_loss: 1.1439 - val_accuracy: 0.7980\n",
      "Epoch 18/20\n",
      "63/63 [==============================] - 0s 7ms/step - loss: 0.1272 - accuracy: 0.9564 - val_loss: 1.1190 - val_accuracy: 0.7990\n",
      "Epoch 19/20\n",
      "63/63 [==============================] - 0s 6ms/step - loss: 0.1230 - accuracy: 0.9573 - val_loss: 1.1857 - val_accuracy: 0.7930\n",
      "Epoch 20/20\n",
      "63/63 [==============================] - 0s 6ms/step - loss: 0.1191 - accuracy: 0.9551 - val_loss: 1.1576 - val_accuracy: 0.7990\n",
      "71/71 [==============================] - 0s 2ms/step - loss: 1.2650 - accuracy: 0.7836\n"
     ]
    }
   ],
   "source": [
    "model = models.Sequential()\n",
    "model.add(layers.Dense(32, activation='relu', input_shape=(10000,)))\n",
    "model.add(layers.Dense(128, activation='relu'))\n",
    "\n",
    "model.add(layers.Dense(46, activation='softmax'))\n",
    "model.compile(optimizer='rmsprop',\n",
    "loss='categorical_crossentropy',\n",
    "metrics=['accuracy'])\n",
    "model.fit(partial_x_train,\n",
    "partial_y_train,\n",
    "epochs=20,\n",
    "batch_size=128,\n",
    "validation_data=(x_val, y_val))\n",
    "results = model.evaluate(x_test, one_hot_test_labels)"
   ]
  },
  {
   "cell_type": "code",
   "execution_count": 49,
   "id": "bccfd2e8",
   "metadata": {},
   "outputs": [
    {
     "name": "stdout",
     "output_type": "stream",
     "text": [
      "Epoch 1/20\n",
      "63/63 [==============================] - 2s 17ms/step - loss: 1.8732 - accuracy: 0.6115 - val_loss: 1.2581 - val_accuracy: 0.7370\n",
      "Epoch 2/20\n",
      "63/63 [==============================] - 1s 13ms/step - loss: 0.9509 - accuracy: 0.7923 - val_loss: 1.0389 - val_accuracy: 0.7830\n",
      "Epoch 3/20\n",
      "63/63 [==============================] - 1s 14ms/step - loss: 0.6458 - accuracy: 0.8576 - val_loss: 0.9366 - val_accuracy: 0.8010\n",
      "Epoch 4/20\n",
      "63/63 [==============================] - 1s 14ms/step - loss: 0.4545 - accuracy: 0.9042 - val_loss: 0.9199 - val_accuracy: 0.8060\n",
      "Epoch 5/20\n",
      "63/63 [==============================] - 1s 14ms/step - loss: 0.3351 - accuracy: 0.9268 - val_loss: 0.8991 - val_accuracy: 0.8200\n",
      "Epoch 6/20\n",
      "63/63 [==============================] - 1s 14ms/step - loss: 0.2640 - accuracy: 0.9407 - val_loss: 0.9171 - val_accuracy: 0.8180\n",
      "Epoch 7/20\n",
      "63/63 [==============================] - 1s 15ms/step - loss: 0.2181 - accuracy: 0.9466 - val_loss: 0.9943 - val_accuracy: 0.7990\n",
      "Epoch 8/20\n",
      "63/63 [==============================] - 1s 16ms/step - loss: 0.1892 - accuracy: 0.9515 - val_loss: 0.9504 - val_accuracy: 0.8150\n",
      "Epoch 9/20\n",
      "63/63 [==============================] - 1s 16ms/step - loss: 0.1730 - accuracy: 0.9535 - val_loss: 0.9968 - val_accuracy: 0.8060\n",
      "Epoch 10/20\n",
      "63/63 [==============================] - 1s 16ms/step - loss: 0.1635 - accuracy: 0.9536 - val_loss: 1.0212 - val_accuracy: 0.8130\n",
      "Epoch 11/20\n",
      "63/63 [==============================] - 1s 16ms/step - loss: 0.1475 - accuracy: 0.9557 - val_loss: 1.0611 - val_accuracy: 0.7990\n",
      "Epoch 12/20\n",
      "63/63 [==============================] - 1s 16ms/step - loss: 0.1440 - accuracy: 0.9568 - val_loss: 1.0663 - val_accuracy: 0.8090\n",
      "Epoch 13/20\n",
      "63/63 [==============================] - 1s 17ms/step - loss: 0.1378 - accuracy: 0.9554 - val_loss: 1.0656 - val_accuracy: 0.8020\n",
      "Epoch 14/20\n",
      "63/63 [==============================] - 1s 16ms/step - loss: 0.1352 - accuracy: 0.9549 - val_loss: 1.0561 - val_accuracy: 0.8190\n",
      "Epoch 15/20\n",
      "63/63 [==============================] - 1s 16ms/step - loss: 0.1331 - accuracy: 0.9567 - val_loss: 1.0660 - val_accuracy: 0.8030\n",
      "Epoch 16/20\n",
      "63/63 [==============================] - 1s 16ms/step - loss: 0.1302 - accuracy: 0.9572 - val_loss: 1.1444 - val_accuracy: 0.7960\n",
      "Epoch 17/20\n",
      "63/63 [==============================] - 1s 16ms/step - loss: 0.1285 - accuracy: 0.9555 - val_loss: 1.1432 - val_accuracy: 0.8010\n",
      "Epoch 18/20\n",
      "63/63 [==============================] - 1s 16ms/step - loss: 0.1254 - accuracy: 0.9570 - val_loss: 1.1350 - val_accuracy: 0.7990\n",
      "Epoch 19/20\n",
      "63/63 [==============================] - 1s 16ms/step - loss: 0.1220 - accuracy: 0.9560 - val_loss: 1.1035 - val_accuracy: 0.8010\n",
      "Epoch 20/20\n",
      "63/63 [==============================] - 1s 15ms/step - loss: 0.1218 - accuracy: 0.9573 - val_loss: 1.1056 - val_accuracy: 0.7960\n",
      "71/71 [==============================] - 0s 3ms/step - loss: 1.2106 - accuracy: 0.7845\n"
     ]
    }
   ],
   "source": [
    "model = models.Sequential()\n",
    "model.add(layers.Dense(128, activation='relu', input_shape=(10000,)))\n",
    "model.add(layers.Dense(32, activation='relu'))\n",
    "\n",
    "model.add(layers.Dense(46, activation='softmax'))\n",
    "model.compile(optimizer='rmsprop',\n",
    "loss='categorical_crossentropy',\n",
    "metrics=['accuracy'])\n",
    "model.fit(partial_x_train,\n",
    "partial_y_train,\n",
    "epochs=20,\n",
    "batch_size=128,\n",
    "validation_data=(x_val, y_val))\n",
    "results = model.evaluate(x_test, one_hot_test_labels)"
   ]
  },
  {
   "cell_type": "code",
   "execution_count": null,
   "id": "591ab781",
   "metadata": {},
   "outputs": [],
   "source": [
    "#TODO compare all results and their accuracy for judgment"
   ]
  }
 ],
 "metadata": {
  "kernelspec": {
   "display_name": "Python 3 (ipykernel)",
   "language": "python",
   "name": "python3"
  },
  "language_info": {
   "codemirror_mode": {
    "name": "ipython",
    "version": 3
   },
   "file_extension": ".py",
   "mimetype": "text/x-python",
   "name": "python",
   "nbconvert_exporter": "python",
   "pygments_lexer": "ipython3",
   "version": "3.11.4"
  }
 },
 "nbformat": 4,
 "nbformat_minor": 5
}
